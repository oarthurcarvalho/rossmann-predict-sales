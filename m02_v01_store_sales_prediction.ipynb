{
 "cells": [
  {
   "cell_type": "markdown",
   "id": "411077d6-2221-429b-92ac-dbec9d41a9e8",
   "metadata": {},
   "source": [
    "# 0.0. Imports"
   ]
  },
  {
   "cell_type": "code",
   "execution_count": 1,
   "id": "47616a01-a6e3-427e-8c5c-af1f617b5ac5",
   "metadata": {
    "editable": true,
    "slideshow": {
     "slide_type": ""
    },
    "tags": []
   },
   "outputs": [],
   "source": [
    "import datetime\n",
    "import inflection\n",
    "\n",
    "import pandas            as pd\n",
    "import numpy             as np\n",
    "import seaborn           as sns\n",
    "import matplotlib.pyplot as plt\n",
    "\n",
    "from scipy                import stats  as ss\n",
    "from sklearn              import preprocessing as pp\n",
    "\n",
    "from math                 import isnan\n",
    "from tabulate             import tabulate\n",
    "from IPython.core.display import HTML"
   ]
  },
  {
   "cell_type": "markdown",
   "id": "915f0e2a-819c-42c3-9d38-895b6d2ed962",
   "metadata": {},
   "source": [
    "## 0.1. Helper Functions"
   ]
  },
  {
   "cell_type": "code",
   "execution_count": 2,
   "id": "6811a81d-3921-4415-88ff-768455e27894",
   "metadata": {},
   "outputs": [],
   "source": [
    "def cramer_v( x, y ):\n",
    "    cm = pd.crosstab( x, y ).to_numpy()\n",
    "    n = cm.sum()\n",
    "    r, k = cm.shape\n",
    "\n",
    "    chi2 = ss.chi2_contingency( cm )[0]\n",
    "    chi2corr = max( 0, chi2 - ( k - 1 )*( r - 1 )/( n - 1 ) )\n",
    "\n",
    "    kcorr = k - ( k - 1 )**2/( n - 1 )\n",
    "    rcorr = r - ( r - 1 )**2/( n - 1 )\n",
    "\n",
    "    return np.sqrt( ( chi2corr/n ) / ( min( kcorr - 1, rcorr - 1 ) ) )"
   ]
  },
  {
   "cell_type": "code",
   "execution_count": 3,
   "id": "6d29c863-a5c2-44e3-b91a-32b4c5ec549e",
   "metadata": {
    "editable": true,
    "slideshow": {
     "slide_type": ""
    },
    "tags": []
   },
   "outputs": [],
   "source": [
    "def jupyter_settings():\n",
    "    %matplotlib inline\n",
    "\n",
    "    plt.style.use( 'bmh' )\n",
    "    plt.rcParams['figure.figsize'] = [25, 12]\n",
    "    plt.rcParams['font.size'] = 24\n",
    "\n",
    "    display( HTML( '<style>.container { width:100% !important; }</style>') )\n",
    "    pd.options.display.max_columns = None\n",
    "    pd.options.display.max_rows = None\n",
    "    pd.set_option( 'display.expand_frame_repr', False )\n",
    "\n",
    "    sns.set()"
   ]
  },
  {
   "cell_type": "code",
   "execution_count": 4,
   "id": "0502f03c-1133-4bea-ba45-58b4c107d4d5",
   "metadata": {},
   "outputs": [
    {
     "data": {
      "text/html": [
       "<style>.container { width:100% !important; }</style>"
      ],
      "text/plain": [
       "<IPython.core.display.HTML object>"
      ]
     },
     "metadata": {},
     "output_type": "display_data"
    }
   ],
   "source": [
    "jupyter_settings()"
   ]
  },
  {
   "cell_type": "markdown",
   "id": "eb267ecf-9053-4221-8647-2f94eadaf388",
   "metadata": {},
   "source": [
    "## 0.2. Loading data"
   ]
  },
  {
   "cell_type": "code",
   "execution_count": 5,
   "id": "6a78537a-31ad-4151-b757-582eebb03388",
   "metadata": {},
   "outputs": [],
   "source": [
    "df_sales_raw = pd.read_csv( 'data/train.csv', low_memory=False )\n",
    "df_store_raw = pd.read_csv( 'data/store.csv', low_memory=False )\n",
    "\n",
    "# Merge\n",
    "df_raw = pd.merge( df_sales_raw, df_store_raw, how='left', on='Store' )"
   ]
  },
  {
   "cell_type": "markdown",
   "id": "a13b9cb4-629a-492b-b064-f2be1c578f5b",
   "metadata": {},
   "source": [
    "# 1.0. DESCRIÇÃO DOS DADOS"
   ]
  },
  {
   "cell_type": "code",
   "execution_count": 6,
   "id": "7adb75d1-d323-4083-90ee-f7e1b5485c2a",
   "metadata": {},
   "outputs": [],
   "source": [
    "df1 = df_raw.copy()"
   ]
  },
  {
   "cell_type": "markdown",
   "id": "edb496e9-2075-44a8-802c-8c79eccdd698",
   "metadata": {},
   "source": [
    "## 1.1. Rename Columns"
   ]
  },
  {
   "cell_type": "code",
   "execution_count": 7,
   "id": "743f51a0-76e5-46a9-bc38-3175fbe4310d",
   "metadata": {},
   "outputs": [],
   "source": [
    "cols_old = list(df1.columns)\n",
    "\n",
    "snakecase = lambda x: inflection.underscore( x )\n",
    "\n",
    "cols_new = list( map( snakecase, cols_old ) )\n",
    "\n",
    "df1.columns = cols_new"
   ]
  },
  {
   "cell_type": "code",
   "execution_count": 8,
   "id": "2cd23d0f-c881-45e4-96a8-9d378bb12331",
   "metadata": {},
   "outputs": [
    {
     "data": {
      "text/plain": [
       "Index(['store', 'day_of_week', 'date', 'sales', 'customers', 'open', 'promo',\n",
       "       'state_holiday', 'school_holiday', 'store_type', 'assortment',\n",
       "       'competition_distance', 'competition_open_since_month',\n",
       "       'competition_open_since_year', 'promo2', 'promo2_since_week',\n",
       "       'promo2_since_year', 'promo_interval'],\n",
       "      dtype='object')"
      ]
     },
     "execution_count": 8,
     "metadata": {},
     "output_type": "execute_result"
    }
   ],
   "source": [
    "df1.columns"
   ]
  },
  {
   "cell_type": "markdown",
   "id": "6003ad7b-4b8f-4928-8aec-345c6b87e6e7",
   "metadata": {},
   "source": [
    "## 1.2. Data Dimensions"
   ]
  },
  {
   "cell_type": "code",
   "execution_count": 9,
   "id": "a401a228-0218-4d5c-b557-b5c3b6dd2104",
   "metadata": {},
   "outputs": [
    {
     "name": "stdout",
     "output_type": "stream",
     "text": [
      "Number of Rows: 1017209\n",
      "Number of Rows: 18\n"
     ]
    }
   ],
   "source": [
    "print( f'Number of Rows: {df1.shape[0]}' )\n",
    "print( f'Number of Rows: {df1.shape[1]}' )"
   ]
  },
  {
   "cell_type": "markdown",
   "id": "48092db9-162b-4aa5-b6c0-6333ba310538",
   "metadata": {},
   "source": [
    "## 1.3. Data Types"
   ]
  },
  {
   "cell_type": "code",
   "execution_count": 10,
   "id": "b840bc30-0501-415a-85d4-35e8731ae597",
   "metadata": {},
   "outputs": [
    {
     "data": {
      "text/plain": [
       "store                                    int64\n",
       "day_of_week                              int64\n",
       "date                            datetime64[ns]\n",
       "sales                                    int64\n",
       "customers                                int64\n",
       "open                                     int64\n",
       "promo                                    int64\n",
       "state_holiday                           object\n",
       "school_holiday                           int64\n",
       "store_type                              object\n",
       "assortment                              object\n",
       "competition_distance                   float64\n",
       "competition_open_since_month           float64\n",
       "competition_open_since_year            float64\n",
       "promo2                                   int64\n",
       "promo2_since_week                      float64\n",
       "promo2_since_year                      float64\n",
       "promo_interval                          object\n",
       "dtype: object"
      ]
     },
     "execution_count": 10,
     "metadata": {},
     "output_type": "execute_result"
    }
   ],
   "source": [
    "df1['date'] = pd.to_datetime( df1['date'] )\n",
    "df1.dtypes"
   ]
  },
  {
   "cell_type": "markdown",
   "id": "1f763afa-3a10-47ba-989d-c892ee4059a2",
   "metadata": {},
   "source": [
    "## 1.4. Check NA"
   ]
  },
  {
   "cell_type": "code",
   "execution_count": 11,
   "id": "f0089018-843a-4c7a-97ce-e3bb826dad14",
   "metadata": {},
   "outputs": [
    {
     "data": {
      "text/plain": [
       "store                                0\n",
       "day_of_week                          0\n",
       "date                                 0\n",
       "sales                                0\n",
       "customers                            0\n",
       "open                                 0\n",
       "promo                                0\n",
       "state_holiday                        0\n",
       "school_holiday                       0\n",
       "store_type                           0\n",
       "assortment                           0\n",
       "competition_distance              2642\n",
       "competition_open_since_month    323348\n",
       "competition_open_since_year     323348\n",
       "promo2                               0\n",
       "promo2_since_week               508031\n",
       "promo2_since_year               508031\n",
       "promo_interval                  508031\n",
       "dtype: int64"
      ]
     },
     "execution_count": 11,
     "metadata": {},
     "output_type": "execute_result"
    }
   ],
   "source": [
    "df1.isna().sum()"
   ]
  },
  {
   "cell_type": "markdown",
   "id": "af10cf11-d1e9-45e9-b2c0-8600b8b5979e",
   "metadata": {},
   "source": [
    "## 1.5. Fill out NA"
   ]
  },
  {
   "cell_type": "code",
   "execution_count": 12,
   "id": "d6afbdfe-f69e-4d71-a382-095062ddb092",
   "metadata": {},
   "outputs": [],
   "source": [
    "# competition_distance\n",
    "\n",
    "df1['competition_distance'] = df1['competition_distance'].apply( lambda x: 200000.0 if isnan( x ) else x )\n",
    "\n",
    "# competition_open_since_month\n",
    "\n",
    "df1['competition_open_since_month'] = df1.apply( \n",
    "    lambda x: x['date'].month \n",
    "        if isnan( x['competition_open_since_month'] ) \n",
    "        else x['competition_open_since_month'],\n",
    "    axis=1\n",
    ")\n",
    "\n",
    "# competition_open_since_year\n",
    "\n",
    "df1['competition_open_since_year'] = df1.apply( \n",
    "    lambda x: x['date'].year \n",
    "        if isnan( x['competition_open_since_year'] ) \n",
    "        else x['competition_open_since_year'],\n",
    "    axis=1\n",
    ")\n",
    "\n",
    "\n",
    "# promo2_since_week\n",
    "\n",
    "df1['promo2_since_week'] = df1.apply( \n",
    "    lambda x: x['date'].week \n",
    "        if isnan( x['promo2_since_week'] ) \n",
    "        else x['promo2_since_week'],\n",
    "    axis=1\n",
    ")\n",
    "\n",
    "# promo2_since_year\n",
    "\n",
    "df1['promo2_since_year'] = df1.apply( \n",
    "    lambda x: x['date'].year\n",
    "        if isnan( x['promo2_since_year'] ) \n",
    "        else x['promo2_since_year'],\n",
    "    axis=1\n",
    ")\n",
    "\n",
    "# promo_interval\n",
    "\n",
    "month_map = { 1: 'Jan', 2: ' Feb', 3: 'Mar', 4: 'Apr', 5: 'May', 6: 'Jun',\n",
    "              7: 'Jul', 8: 'Aug', 9: 'Sept', 10: 'Oct', 11: 'Nov', 12: 'Dec'\n",
    "            }\n",
    "\n",
    "df1['promo_interval'] = df1['promo_interval'].fillna(0)\n",
    "\n",
    "df1['month_map'] = df1['date'].dt.month.map( month_map )\n",
    "\n",
    "df1['is_promo'] = df1[['promo_interval', 'month_map']].apply(\n",
    "    lambda x: 0 if x['promo_interval'] == 0 else 1 \n",
    "        if x['month_map'] in x['promo_interval'].split( ',' ) else 0,\n",
    "    axis=1 \n",
    ")"
   ]
  },
  {
   "cell_type": "code",
   "execution_count": 13,
   "id": "38e78f0c-63ff-4311-81d2-e12fa54a1ddf",
   "metadata": {},
   "outputs": [
    {
     "data": {
      "text/plain": [
       "store                           0\n",
       "day_of_week                     0\n",
       "date                            0\n",
       "sales                           0\n",
       "customers                       0\n",
       "open                            0\n",
       "promo                           0\n",
       "state_holiday                   0\n",
       "school_holiday                  0\n",
       "store_type                      0\n",
       "assortment                      0\n",
       "competition_distance            0\n",
       "competition_open_since_month    0\n",
       "competition_open_since_year     0\n",
       "promo2                          0\n",
       "promo2_since_week               0\n",
       "promo2_since_year               0\n",
       "promo_interval                  0\n",
       "month_map                       0\n",
       "is_promo                        0\n",
       "dtype: int64"
      ]
     },
     "execution_count": 13,
     "metadata": {},
     "output_type": "execute_result"
    }
   ],
   "source": [
    "df1.isna().sum()"
   ]
  },
  {
   "cell_type": "markdown",
   "id": "32b9d641-7bee-42aa-bcc5-5a0b57cdfe52",
   "metadata": {},
   "source": [
    "## 1.6. Change Types"
   ]
  },
  {
   "cell_type": "code",
   "execution_count": 14,
   "id": "f6a3ece9-00a6-4933-9630-faff3a97db7c",
   "metadata": {},
   "outputs": [
    {
     "data": {
      "text/plain": [
       "store                                    int64\n",
       "day_of_week                              int64\n",
       "date                            datetime64[ns]\n",
       "sales                                    int64\n",
       "customers                                int64\n",
       "open                                     int64\n",
       "promo                                    int64\n",
       "state_holiday                           object\n",
       "school_holiday                           int64\n",
       "store_type                              object\n",
       "assortment                              object\n",
       "competition_distance                   float64\n",
       "competition_open_since_month           float64\n",
       "competition_open_since_year            float64\n",
       "promo2                                   int64\n",
       "promo2_since_week                      float64\n",
       "promo2_since_year                      float64\n",
       "promo_interval                          object\n",
       "month_map                               object\n",
       "is_promo                                 int64\n",
       "dtype: object"
      ]
     },
     "execution_count": 14,
     "metadata": {},
     "output_type": "execute_result"
    }
   ],
   "source": [
    "df1.dtypes"
   ]
  },
  {
   "cell_type": "code",
   "execution_count": 15,
   "id": "2b5a9b5c-db30-4b2a-906d-f25f292e5f77",
   "metadata": {},
   "outputs": [],
   "source": [
    "df1['competition_open_since_month'] = df1['competition_open_since_month'].astype( int )\n",
    "df1['competition_open_since_year'] = df1['competition_open_since_year'].astype( int )\n",
    "\n",
    "df1['promo2_since_week'] = df1['promo2_since_week'].astype( int )\n",
    "df1['promo2_since_year'] = df1['promo2_since_year'].astype( int )"
   ]
  },
  {
   "cell_type": "code",
   "execution_count": 16,
   "id": "cfd698ed-90dc-47b6-b728-fc66f327d615",
   "metadata": {},
   "outputs": [
    {
     "data": {
      "text/plain": [
       "store                                    int64\n",
       "day_of_week                              int64\n",
       "date                            datetime64[ns]\n",
       "sales                                    int64\n",
       "customers                                int64\n",
       "open                                     int64\n",
       "promo                                    int64\n",
       "state_holiday                           object\n",
       "school_holiday                           int64\n",
       "store_type                              object\n",
       "assortment                              object\n",
       "competition_distance                   float64\n",
       "competition_open_since_month             int64\n",
       "competition_open_since_year              int64\n",
       "promo2                                   int64\n",
       "promo2_since_week                        int64\n",
       "promo2_since_year                        int64\n",
       "promo_interval                          object\n",
       "month_map                               object\n",
       "is_promo                                 int64\n",
       "dtype: object"
      ]
     },
     "execution_count": 16,
     "metadata": {},
     "output_type": "execute_result"
    }
   ],
   "source": [
    "df1.dtypes"
   ]
  },
  {
   "cell_type": "markdown",
   "id": "dc08ae2e-84e5-4e54-b76a-60a51442a700",
   "metadata": {},
   "source": [
    "## 1.7. Descriptive Statistical"
   ]
  },
  {
   "cell_type": "code",
   "execution_count": 17,
   "id": "f254f471-53db-4988-b4df-55956a9a564b",
   "metadata": {},
   "outputs": [],
   "source": [
    "num_attributes = df1.select_dtypes( include=['int64', 'float64'] )\n",
    "cat_attributes = df1.select_dtypes( exclude=['int64', 'float64', 'datetime64[ns]'] )"
   ]
  },
  {
   "cell_type": "markdown",
   "id": "23f65138-5315-480c-8120-ace0352e46f8",
   "metadata": {},
   "source": [
    "### 1.7.1. Numerical Attributes"
   ]
  },
  {
   "cell_type": "code",
   "execution_count": 18,
   "id": "97f8b0d0-dab6-4568-a903-d9734b4ee203",
   "metadata": {},
   "outputs": [
    {
     "data": {
      "text/html": [
       "<div>\n",
       "<style scoped>\n",
       "    .dataframe tbody tr th:only-of-type {\n",
       "        vertical-align: middle;\n",
       "    }\n",
       "\n",
       "    .dataframe tbody tr th {\n",
       "        vertical-align: top;\n",
       "    }\n",
       "\n",
       "    .dataframe thead th {\n",
       "        text-align: right;\n",
       "    }\n",
       "</style>\n",
       "<table border=\"1\" class=\"dataframe\">\n",
       "  <thead>\n",
       "    <tr style=\"text-align: right;\">\n",
       "      <th></th>\n",
       "      <th>attributes</th>\n",
       "      <th>min</th>\n",
       "      <th>max</th>\n",
       "      <th>range</th>\n",
       "      <th>mean</th>\n",
       "      <th>median</th>\n",
       "      <th>std</th>\n",
       "      <th>skew</th>\n",
       "      <th>kurtosis</th>\n",
       "    </tr>\n",
       "  </thead>\n",
       "  <tbody>\n",
       "    <tr>\n",
       "      <th>0</th>\n",
       "      <td>store</td>\n",
       "      <td>1.0</td>\n",
       "      <td>1115.0</td>\n",
       "      <td>1114.0</td>\n",
       "      <td>558.429727</td>\n",
       "      <td>558.0</td>\n",
       "      <td>321.908493</td>\n",
       "      <td>-0.000955</td>\n",
       "      <td>-1.200524</td>\n",
       "    </tr>\n",
       "    <tr>\n",
       "      <th>1</th>\n",
       "      <td>day_of_week</td>\n",
       "      <td>1.0</td>\n",
       "      <td>7.0</td>\n",
       "      <td>6.0</td>\n",
       "      <td>3.998341</td>\n",
       "      <td>4.0</td>\n",
       "      <td>1.997390</td>\n",
       "      <td>0.001593</td>\n",
       "      <td>-1.246873</td>\n",
       "    </tr>\n",
       "    <tr>\n",
       "      <th>2</th>\n",
       "      <td>sales</td>\n",
       "      <td>0.0</td>\n",
       "      <td>41551.0</td>\n",
       "      <td>41551.0</td>\n",
       "      <td>5773.818972</td>\n",
       "      <td>5744.0</td>\n",
       "      <td>3849.924283</td>\n",
       "      <td>0.641460</td>\n",
       "      <td>1.778375</td>\n",
       "    </tr>\n",
       "    <tr>\n",
       "      <th>3</th>\n",
       "      <td>customers</td>\n",
       "      <td>0.0</td>\n",
       "      <td>7388.0</td>\n",
       "      <td>7388.0</td>\n",
       "      <td>633.145946</td>\n",
       "      <td>609.0</td>\n",
       "      <td>464.411506</td>\n",
       "      <td>1.598650</td>\n",
       "      <td>7.091773</td>\n",
       "    </tr>\n",
       "    <tr>\n",
       "      <th>4</th>\n",
       "      <td>open</td>\n",
       "      <td>0.0</td>\n",
       "      <td>1.0</td>\n",
       "      <td>1.0</td>\n",
       "      <td>0.830107</td>\n",
       "      <td>1.0</td>\n",
       "      <td>0.375539</td>\n",
       "      <td>-1.758045</td>\n",
       "      <td>1.090723</td>\n",
       "    </tr>\n",
       "    <tr>\n",
       "      <th>5</th>\n",
       "      <td>promo</td>\n",
       "      <td>0.0</td>\n",
       "      <td>1.0</td>\n",
       "      <td>1.0</td>\n",
       "      <td>0.381515</td>\n",
       "      <td>0.0</td>\n",
       "      <td>0.485758</td>\n",
       "      <td>0.487838</td>\n",
       "      <td>-1.762018</td>\n",
       "    </tr>\n",
       "    <tr>\n",
       "      <th>6</th>\n",
       "      <td>school_holiday</td>\n",
       "      <td>0.0</td>\n",
       "      <td>1.0</td>\n",
       "      <td>1.0</td>\n",
       "      <td>0.178647</td>\n",
       "      <td>0.0</td>\n",
       "      <td>0.383056</td>\n",
       "      <td>1.677842</td>\n",
       "      <td>0.815154</td>\n",
       "    </tr>\n",
       "    <tr>\n",
       "      <th>7</th>\n",
       "      <td>competition_distance</td>\n",
       "      <td>20.0</td>\n",
       "      <td>200000.0</td>\n",
       "      <td>199980.0</td>\n",
       "      <td>5935.442677</td>\n",
       "      <td>2330.0</td>\n",
       "      <td>12547.646829</td>\n",
       "      <td>10.242344</td>\n",
       "      <td>147.789712</td>\n",
       "    </tr>\n",
       "    <tr>\n",
       "      <th>8</th>\n",
       "      <td>competition_open_since_month</td>\n",
       "      <td>1.0</td>\n",
       "      <td>12.0</td>\n",
       "      <td>11.0</td>\n",
       "      <td>6.786849</td>\n",
       "      <td>7.0</td>\n",
       "      <td>3.311085</td>\n",
       "      <td>-0.042076</td>\n",
       "      <td>-1.232607</td>\n",
       "    </tr>\n",
       "    <tr>\n",
       "      <th>9</th>\n",
       "      <td>competition_open_since_year</td>\n",
       "      <td>1900.0</td>\n",
       "      <td>2015.0</td>\n",
       "      <td>115.0</td>\n",
       "      <td>2010.324840</td>\n",
       "      <td>2012.0</td>\n",
       "      <td>5.515591</td>\n",
       "      <td>-7.235657</td>\n",
       "      <td>124.071304</td>\n",
       "    </tr>\n",
       "    <tr>\n",
       "      <th>10</th>\n",
       "      <td>promo2</td>\n",
       "      <td>0.0</td>\n",
       "      <td>1.0</td>\n",
       "      <td>1.0</td>\n",
       "      <td>0.500564</td>\n",
       "      <td>1.0</td>\n",
       "      <td>0.500000</td>\n",
       "      <td>-0.002255</td>\n",
       "      <td>-1.999999</td>\n",
       "    </tr>\n",
       "    <tr>\n",
       "      <th>11</th>\n",
       "      <td>promo2_since_week</td>\n",
       "      <td>1.0</td>\n",
       "      <td>52.0</td>\n",
       "      <td>51.0</td>\n",
       "      <td>23.619033</td>\n",
       "      <td>22.0</td>\n",
       "      <td>14.310057</td>\n",
       "      <td>0.178723</td>\n",
       "      <td>-1.184046</td>\n",
       "    </tr>\n",
       "    <tr>\n",
       "      <th>12</th>\n",
       "      <td>promo2_since_year</td>\n",
       "      <td>2009.0</td>\n",
       "      <td>2015.0</td>\n",
       "      <td>6.0</td>\n",
       "      <td>2012.793297</td>\n",
       "      <td>2013.0</td>\n",
       "      <td>1.662657</td>\n",
       "      <td>-0.784436</td>\n",
       "      <td>-0.210075</td>\n",
       "    </tr>\n",
       "    <tr>\n",
       "      <th>13</th>\n",
       "      <td>is_promo</td>\n",
       "      <td>0.0</td>\n",
       "      <td>1.0</td>\n",
       "      <td>1.0</td>\n",
       "      <td>0.161100</td>\n",
       "      <td>0.0</td>\n",
       "      <td>0.367623</td>\n",
       "      <td>1.843742</td>\n",
       "      <td>1.399388</td>\n",
       "    </tr>\n",
       "  </tbody>\n",
       "</table>\n",
       "</div>"
      ],
      "text/plain": [
       "                      attributes     min       max     range         mean  median           std       skew    kurtosis\n",
       "0                          store     1.0    1115.0    1114.0   558.429727   558.0    321.908493  -0.000955   -1.200524\n",
       "1                    day_of_week     1.0       7.0       6.0     3.998341     4.0      1.997390   0.001593   -1.246873\n",
       "2                          sales     0.0   41551.0   41551.0  5773.818972  5744.0   3849.924283   0.641460    1.778375\n",
       "3                      customers     0.0    7388.0    7388.0   633.145946   609.0    464.411506   1.598650    7.091773\n",
       "4                           open     0.0       1.0       1.0     0.830107     1.0      0.375539  -1.758045    1.090723\n",
       "5                          promo     0.0       1.0       1.0     0.381515     0.0      0.485758   0.487838   -1.762018\n",
       "6                 school_holiday     0.0       1.0       1.0     0.178647     0.0      0.383056   1.677842    0.815154\n",
       "7           competition_distance    20.0  200000.0  199980.0  5935.442677  2330.0  12547.646829  10.242344  147.789712\n",
       "8   competition_open_since_month     1.0      12.0      11.0     6.786849     7.0      3.311085  -0.042076   -1.232607\n",
       "9    competition_open_since_year  1900.0    2015.0     115.0  2010.324840  2012.0      5.515591  -7.235657  124.071304\n",
       "10                        promo2     0.0       1.0       1.0     0.500564     1.0      0.500000  -0.002255   -1.999999\n",
       "11             promo2_since_week     1.0      52.0      51.0    23.619033    22.0     14.310057   0.178723   -1.184046\n",
       "12             promo2_since_year  2009.0    2015.0       6.0  2012.793297  2013.0      1.662657  -0.784436   -0.210075\n",
       "13                      is_promo     0.0       1.0       1.0     0.161100     0.0      0.367623   1.843742    1.399388"
      ]
     },
     "execution_count": 18,
     "metadata": {},
     "output_type": "execute_result"
    }
   ],
   "source": [
    "#  Central Tendency - mean, median\n",
    "ct1 = pd.DataFrame( num_attributes.apply( np.mean ) ).T\n",
    "ct2 = pd.DataFrame( num_attributes.apply( np.median ) ).T\n",
    "\n",
    "# Dispersion - std, min, max, range, skew, kurtosis\n",
    "d1 = pd.DataFrame( num_attributes.apply( np.std ) ).T\n",
    "d2 = pd.DataFrame( num_attributes.apply( np.min ) ).T\n",
    "d3 = pd.DataFrame( num_attributes.apply( np.max ) ).T\n",
    "d4 = pd.DataFrame( num_attributes.apply( lambda x: x.max() - x.min() ) ).T\n",
    "d5 = pd.DataFrame( num_attributes.apply( lambda x: x.skew() ) ).T\n",
    "d6 = pd.DataFrame( num_attributes.apply( lambda x: x.kurtosis() ) ).T\n",
    "\n",
    "# concatenate\n",
    "m = pd.concat( [d2, d3, d4, ct1, ct2, d1, d5, d6] ).T.reset_index()\n",
    "m.columns = ['attributes', 'min', 'max', 'range', 'mean', 'median', 'std', 'skew', 'kurtosis']\n",
    "m"
   ]
  },
  {
   "cell_type": "code",
   "execution_count": 19,
   "id": "51f73fc8-966c-41c6-972b-4dff4b606716",
   "metadata": {},
   "outputs": [
    {
     "data": {
      "text/plain": [
       "<Axes: xlabel='competition_distance', ylabel='Count'>"
      ]
     },
     "execution_count": 19,
     "metadata": {},
     "output_type": "execute_result"
    },
    {
     "data": {
      "image/png": "[encoded data removed]",
      "text/plain": [
       "<Figure size 2500x1200 with 1 Axes>"
      ]
     },
     "metadata": {},
     "output_type": "display_data"
    }
   ],
   "source": [
    "sns.histplot( df1['competition_distance'] )"
   ]
  },
  {
   "cell_type": "markdown",
   "id": "fe24a2a0-07c5-4be8-900c-08b059ca40bc",
   "metadata": {},
   "source": [
    "### 1.7.2. Categorical Attributes"
   ]
  },
  {
   "cell_type": "code",
   "execution_count": 20,
   "id": "09c75a3a-06ad-4fbf-97af-c85f58a39376",
   "metadata": {},
   "outputs": [
    {
     "data": {
      "text/plain": [
       "state_holiday      4\n",
       "store_type         4\n",
       "assortment         3\n",
       "promo_interval     4\n",
       "month_map         12\n",
       "dtype: int64"
      ]
     },
     "execution_count": 20,
     "metadata": {},
     "output_type": "execute_result"
    }
   ],
   "source": [
    "cat_attributes.apply( lambda x: x.nunique() )"
   ]
  },
  {
   "cell_type": "code",
   "execution_count": 21,
   "id": "6fa2d871-1d1c-4b6e-a62e-8964a220e522",
   "metadata": {},
   "outputs": [
    {
     "data": {
      "text/plain": [
       "<Axes: xlabel='assortment', ylabel='sales'>"
      ]
     },
     "execution_count": 21,
     "metadata": {},
     "output_type": "execute_result"
    },
    {
     "data": {
      "image/png": "[encoded data removed]",
      "text/plain": [
       "<Figure size 2500x1200 with 3 Axes>"
      ]
     },
     "metadata": {},
     "output_type": "display_data"
    }
   ],
   "source": [
    "aux = df1[( df1['state_holiday'] != '0' ) & ( df1['sales'] > 0 )]\n",
    "\n",
    "\n",
    "plt.subplot(1, 3, 1)\n",
    "sns.boxplot( x='state_holiday', y='sales', data=aux )\n",
    "\n",
    "plt.subplot(1, 3, 2)\n",
    "sns.boxplot( x='store_type', y='sales', data=aux )\n",
    "\n",
    "plt.subplot(1, 3, 3)\n",
    "sns.boxplot( x='assortment', y='sales', data=aux )"
   ]
  },
  {
   "cell_type": "markdown",
   "id": "a6a3a6eb-697a-4e95-a445-b6cb7dc59864",
   "metadata": {},
   "source": [
    "# 2.0. FEATURE ENGINEERING"
   ]
  },
  {
   "cell_type": "code",
   "execution_count": 22,
   "id": "3a925363-d6c2-4bd8-a714-48ee260ff057",
   "metadata": {},
   "outputs": [],
   "source": [
    "df2 = df1.copy()"
   ]
  },
  {
   "cell_type": "markdown",
   "id": "5fbc66d8-a5cf-4293-8f8a-6deeb871e93b",
   "metadata": {},
   "source": [
    "## 2.1. Mapa Mental de Hipóteses"
   ]
  },
  {
   "cell_type": "markdown",
   "id": "2ff5dbf6-18e8-450a-9fa5-83f3daac6fbc",
   "metadata": {},
   "source": [
    "### 2.1.1. Mapa Mental\n",
    "\n",
    "![Texto Alternativo](img/Mind_MapHypothesis.png)"
   ]
  },
  {
   "cell_type": "markdown",
   "id": "b5ab69ea-45bf-4594-9926-7400cf75e66c",
   "metadata": {},
   "source": [
    "## 2.2. Criação de Hipóteses"
   ]
  },
  {
   "cell_type": "markdown",
   "id": "68cc8565-93eb-464f-89f7-61f775bdd73e",
   "metadata": {},
   "source": [
    "### 2.2.1. Hipóteses Loja\n",
    "\n",
    "**1.** Lojas com número maior de funcionários deveriam vender mais\n",
    "\n",
    "**2.** Lojas com maior capacidade de estoque deveriam vender mais.\n",
    "\n",
    "**3.** Lojas com maior porte deveriam vender mais\n",
    "\n",
    "**4.** Lojas com maior sortimento deveriam vender mais\n",
    "\n",
    "**5.** Lojas com competidores mais próximos deveriam vender menos\n",
    "\n",
    "**6.** Lojas com competidores à mais tempo deveriam vender menos"
   ]
  },
  {
   "cell_type": "markdown",
   "id": "b4ab485e-f7fa-4727-a88b-ba61057170d7",
   "metadata": {},
   "source": [
    "### 2.2.2. Hipóteses Produto\n",
    "\n",
    "**1.** Lojas que investem mais em Marketing deveriam vender mais.\n",
    "\n",
    "**2.** Lojas com maior exposição de produto deveriam vender mais.\n",
    "\n",
    "**3.** Lojas com produtos com preço menor deveriam vender mais.\n",
    "\n",
    "**4.** Lojas com promoções mais agressivas ( descontos maiores ), deveriam vender mais.\n",
    "\n",
    "**5.** Lojas com promoções ativas por mais tempo deveriam vender mais.\n",
    "\n",
    "**6.** Lojas com mais dias de promoção deveriam vender mais.\n",
    "\n",
    "**7.** Lojas com mais promoções consecutivas deveriam vender mais."
   ]
  },
  {
   "cell_type": "markdown",
   "id": "bdeffedd-ea5a-432b-b1f3-a71fed96266d",
   "metadata": {},
   "source": [
    "### 2.2.3. Hipóteses Tempo\n",
    "\n",
    "**1.** Lojas abertas durante o feriado de Natal deveriam vender mais.\n",
    "\n",
    "**2.** Lojas deveriam vender mais ao longo dos anos.\n",
    "\n",
    "**3.** Lojas deveriam vender mais no segundo semestre do ano.\n",
    "\n",
    "**4.** Lojas deveriam vender mais depois do dia 10 de cada mês.\n",
    "\n",
    "**5.** Lojas deveriam vender menos aos finais de semana.\n",
    "\n",
    "**6.** Lojas deveriam vender menos durante feriados escolares."
   ]
  },
  {
   "cell_type": "markdown",
   "id": "10731799-8873-40a4-b746-0ae93c8707d5",
   "metadata": {},
   "source": [
    "## 2.3. Lista Final de Hipóteses"
   ]
  },
  {
   "cell_type": "markdown",
   "id": "c6c5d439-5d9d-487e-be59-4085ea081a3e",
   "metadata": {},
   "source": [
    "**1.** Lojas com maior sortimento deveriam vender mais\n",
    "\n",
    "**2.** Lojas com competidores mais próximos deveriam vender menos\n",
    "\n",
    "**3.** Lojas com competidores à mais tempo deveriam vender menos"
   ]
  },
  {
   "cell_type": "markdown",
   "id": "116c5e55-6edf-4335-ae72-017137e0f33a",
   "metadata": {},
   "source": [
    "**4.** Lojas com promoções ativas por mais tempo deveriam vender mais.\n",
    "\n",
    "**5.** Lojas com mais promoções consecutivas deveriam vender mais."
   ]
  },
  {
   "cell_type": "markdown",
   "id": "1aa4dd8e-5136-4dbf-a0a7-59c7273d1b69",
   "metadata": {},
   "source": [
    "**6.** Lojas abertas durante o feriado de Natal deveriam vender mais.\n",
    "\n",
    "**7.** Lojas deveriam vender mais ao longo dos anos.\n",
    "\n",
    "**8.** Lojas deveriam vender mais no segundo semestre do ano.\n",
    "\n",
    "**9.** Lojas deveriam vender mais depois do dia 10 de cada mês.\n",
    "\n",
    "**10.** Lojas deveriam vender menos aos finais de semana.\n",
    "\n",
    "**11.** Lojas deveriam vender menos durante feriados escolares."
   ]
  },
  {
   "cell_type": "markdown",
   "id": "41c0043a-29ea-42f2-b0b5-31e49f581e49",
   "metadata": {},
   "source": [
    "## 2.4. Feature Engineering"
   ]
  },
  {
   "cell_type": "code",
   "execution_count": 23,
   "id": "d9958e77-2217-4e6d-8450-16893bbfccbd",
   "metadata": {},
   "outputs": [],
   "source": [
    "# year\n",
    "df2['year'] = df2['date'].dt.year\n",
    "\n",
    "# month\n",
    "df2['month'] = df2['date'].dt.month\n",
    "\n",
    "# day\n",
    "df2['day'] = df2['date'].dt.day\n",
    "\n",
    "# week of year\n",
    "df2['week_of_year'] = df2['date'].dt.isocalendar().week\n",
    "\n",
    "# year week\n",
    "df2['year_week'] = df2['date'].dt.strftime( '%Y-%W' )\n",
    "\n",
    "# competition since\n",
    "df2['competition_since'] = df2.apply(\n",
    "    lambda x: datetime.datetime( \n",
    "        year=x['competition_open_since_year'],\n",
    "        month=x['competition_open_since_month'],\n",
    "        day=1\n",
    "    ),\n",
    "    axis=1\n",
    ")\n",
    "df2['competition_time_month'] = ( \n",
    "    ( df2['date'] - df2['competition_since'] ) / 30 \n",
    "    ).apply( lambda x: x.days ).astype( int )\n",
    "\n",
    "# promo since\n",
    "df2['promo_since'] = df2['promo2_since_year'].astype( str ) + '-' + df2['promo2_since_week'].astype( str )\n",
    "df2['promo_since'] = df2['promo_since'].apply( lambda x: datetime.datetime.strptime( x + '-1', '%Y-%W-%w' ) - datetime.timedelta( days=7 ) )\n",
    "df2['promo_time_week'] = ( ( df2['date'] - df2['promo_since'] ) / 7 ).apply( lambda x: x.days ).astype( int )\n",
    "\n",
    "# assortment\n",
    "assortment_map = {\n",
    "    'a': 'basic',\n",
    "    'b': 'extra',\n",
    "    'c': 'extended'\n",
    "}\n",
    "df2['assortment'] = df2['assortment'].map(assortment_map)\n",
    "\n",
    "# state holiday\n",
    "state_holiday_map = {\n",
    "    'a': 'public holiday',\n",
    "    'b': 'Easter holiday',\n",
    "    'c': 'Christmas',\n",
    "    '0': 'regular_day'\n",
    "}\n",
    "df2['state_holiday'] = df2['state_holiday'].map(state_holiday_map)"
   ]
  },
  {
   "cell_type": "code",
   "execution_count": 24,
   "id": "1d398f5b-cdaf-437e-b3dd-cab86beb0ee0",
   "metadata": {},
   "outputs": [
    {
     "data": {
      "text/html": [
       "<div>\n",
       "<style scoped>\n",
       "    .dataframe tbody tr th:only-of-type {\n",
       "        vertical-align: middle;\n",
       "    }\n",
       "\n",
       "    .dataframe tbody tr th {\n",
       "        vertical-align: top;\n",
       "    }\n",
       "\n",
       "    .dataframe thead th {\n",
       "        text-align: right;\n",
       "    }\n",
       "</style>\n",
       "<table border=\"1\" class=\"dataframe\">\n",
       "  <thead>\n",
       "    <tr style=\"text-align: right;\">\n",
       "      <th></th>\n",
       "      <th>0</th>\n",
       "      <th>1</th>\n",
       "      <th>2</th>\n",
       "      <th>3</th>\n",
       "      <th>4</th>\n",
       "    </tr>\n",
       "  </thead>\n",
       "  <tbody>\n",
       "    <tr>\n",
       "      <th>store</th>\n",
       "      <td>1</td>\n",
       "      <td>2</td>\n",
       "      <td>3</td>\n",
       "      <td>4</td>\n",
       "      <td>5</td>\n",
       "    </tr>\n",
       "    <tr>\n",
       "      <th>day_of_week</th>\n",
       "      <td>5</td>\n",
       "      <td>5</td>\n",
       "      <td>5</td>\n",
       "      <td>5</td>\n",
       "      <td>5</td>\n",
       "    </tr>\n",
       "    <tr>\n",
       "      <th>date</th>\n",
       "      <td>2015-07-31 00:00:00</td>\n",
       "      <td>2015-07-31 00:00:00</td>\n",
       "      <td>2015-07-31 00:00:00</td>\n",
       "      <td>2015-07-31 00:00:00</td>\n",
       "      <td>2015-07-31 00:00:00</td>\n",
       "    </tr>\n",
       "    <tr>\n",
       "      <th>sales</th>\n",
       "      <td>5263</td>\n",
       "      <td>6064</td>\n",
       "      <td>8314</td>\n",
       "      <td>13995</td>\n",
       "      <td>4822</td>\n",
       "    </tr>\n",
       "    <tr>\n",
       "      <th>customers</th>\n",
       "      <td>555</td>\n",
       "      <td>625</td>\n",
       "      <td>821</td>\n",
       "      <td>1498</td>\n",
       "      <td>559</td>\n",
       "    </tr>\n",
       "    <tr>\n",
       "      <th>open</th>\n",
       "      <td>1</td>\n",
       "      <td>1</td>\n",
       "      <td>1</td>\n",
       "      <td>1</td>\n",
       "      <td>1</td>\n",
       "    </tr>\n",
       "    <tr>\n",
       "      <th>promo</th>\n",
       "      <td>1</td>\n",
       "      <td>1</td>\n",
       "      <td>1</td>\n",
       "      <td>1</td>\n",
       "      <td>1</td>\n",
       "    </tr>\n",
       "    <tr>\n",
       "      <th>state_holiday</th>\n",
       "      <td>regular_day</td>\n",
       "      <td>regular_day</td>\n",
       "      <td>regular_day</td>\n",
       "      <td>regular_day</td>\n",
       "      <td>regular_day</td>\n",
       "    </tr>\n",
       "    <tr>\n",
       "      <th>school_holiday</th>\n",
       "      <td>1</td>\n",
       "      <td>1</td>\n",
       "      <td>1</td>\n",
       "      <td>1</td>\n",
       "      <td>1</td>\n",
       "    </tr>\n",
       "    <tr>\n",
       "      <th>store_type</th>\n",
       "      <td>c</td>\n",
       "      <td>a</td>\n",
       "      <td>a</td>\n",
       "      <td>c</td>\n",
       "      <td>a</td>\n",
       "    </tr>\n",
       "    <tr>\n",
       "      <th>assortment</th>\n",
       "      <td>basic</td>\n",
       "      <td>basic</td>\n",
       "      <td>basic</td>\n",
       "      <td>extended</td>\n",
       "      <td>basic</td>\n",
       "    </tr>\n",
       "    <tr>\n",
       "      <th>competition_distance</th>\n",
       "      <td>1270.0</td>\n",
       "      <td>570.0</td>\n",
       "      <td>14130.0</td>\n",
       "      <td>620.0</td>\n",
       "      <td>29910.0</td>\n",
       "    </tr>\n",
       "    <tr>\n",
       "      <th>competition_open_since_month</th>\n",
       "      <td>9</td>\n",
       "      <td>11</td>\n",
       "      <td>12</td>\n",
       "      <td>9</td>\n",
       "      <td>4</td>\n",
       "    </tr>\n",
       "    <tr>\n",
       "      <th>competition_open_since_year</th>\n",
       "      <td>2008</td>\n",
       "      <td>2007</td>\n",
       "      <td>2006</td>\n",
       "      <td>2009</td>\n",
       "      <td>2015</td>\n",
       "    </tr>\n",
       "    <tr>\n",
       "      <th>promo2</th>\n",
       "      <td>0</td>\n",
       "      <td>1</td>\n",
       "      <td>1</td>\n",
       "      <td>0</td>\n",
       "      <td>0</td>\n",
       "    </tr>\n",
       "    <tr>\n",
       "      <th>promo2_since_week</th>\n",
       "      <td>31</td>\n",
       "      <td>13</td>\n",
       "      <td>14</td>\n",
       "      <td>31</td>\n",
       "      <td>31</td>\n",
       "    </tr>\n",
       "    <tr>\n",
       "      <th>promo2_since_year</th>\n",
       "      <td>2015</td>\n",
       "      <td>2010</td>\n",
       "      <td>2011</td>\n",
       "      <td>2015</td>\n",
       "      <td>2015</td>\n",
       "    </tr>\n",
       "    <tr>\n",
       "      <th>promo_interval</th>\n",
       "      <td>0</td>\n",
       "      <td>Jan,Apr,Jul,Oct</td>\n",
       "      <td>Jan,Apr,Jul,Oct</td>\n",
       "      <td>0</td>\n",
       "      <td>0</td>\n",
       "    </tr>\n",
       "    <tr>\n",
       "      <th>month_map</th>\n",
       "      <td>Jul</td>\n",
       "      <td>Jul</td>\n",
       "      <td>Jul</td>\n",
       "      <td>Jul</td>\n",
       "      <td>Jul</td>\n",
       "    </tr>\n",
       "    <tr>\n",
       "      <th>is_promo</th>\n",
       "      <td>0</td>\n",
       "      <td>1</td>\n",
       "      <td>1</td>\n",
       "      <td>0</td>\n",
       "      <td>0</td>\n",
       "    </tr>\n",
       "    <tr>\n",
       "      <th>year</th>\n",
       "      <td>2015</td>\n",
       "      <td>2015</td>\n",
       "      <td>2015</td>\n",
       "      <td>2015</td>\n",
       "      <td>2015</td>\n",
       "    </tr>\n",
       "    <tr>\n",
       "      <th>month</th>\n",
       "      <td>7</td>\n",
       "      <td>7</td>\n",
       "      <td>7</td>\n",
       "      <td>7</td>\n",
       "      <td>7</td>\n",
       "    </tr>\n",
       "    <tr>\n",
       "      <th>day</th>\n",
       "      <td>31</td>\n",
       "      <td>31</td>\n",
       "      <td>31</td>\n",
       "      <td>31</td>\n",
       "      <td>31</td>\n",
       "    </tr>\n",
       "    <tr>\n",
       "      <th>week_of_year</th>\n",
       "      <td>31</td>\n",
       "      <td>31</td>\n",
       "      <td>31</td>\n",
       "      <td>31</td>\n",
       "      <td>31</td>\n",
       "    </tr>\n",
       "    <tr>\n",
       "      <th>year_week</th>\n",
       "      <td>2015-30</td>\n",
       "      <td>2015-30</td>\n",
       "      <td>2015-30</td>\n",
       "      <td>2015-30</td>\n",
       "      <td>2015-30</td>\n",
       "    </tr>\n",
       "    <tr>\n",
       "      <th>competition_since</th>\n",
       "      <td>2008-09-01 00:00:00</td>\n",
       "      <td>2007-11-01 00:00:00</td>\n",
       "      <td>2006-12-01 00:00:00</td>\n",
       "      <td>2009-09-01 00:00:00</td>\n",
       "      <td>2015-04-01 00:00:00</td>\n",
       "    </tr>\n",
       "    <tr>\n",
       "      <th>competition_time_month</th>\n",
       "      <td>84</td>\n",
       "      <td>94</td>\n",
       "      <td>105</td>\n",
       "      <td>71</td>\n",
       "      <td>4</td>\n",
       "    </tr>\n",
       "    <tr>\n",
       "      <th>promo_since</th>\n",
       "      <td>2015-07-27 00:00:00</td>\n",
       "      <td>2010-03-22 00:00:00</td>\n",
       "      <td>2011-03-28 00:00:00</td>\n",
       "      <td>2015-07-27 00:00:00</td>\n",
       "      <td>2015-07-27 00:00:00</td>\n",
       "    </tr>\n",
       "    <tr>\n",
       "      <th>promo_time_week</th>\n",
       "      <td>0</td>\n",
       "      <td>279</td>\n",
       "      <td>226</td>\n",
       "      <td>0</td>\n",
       "      <td>0</td>\n",
       "    </tr>\n",
       "  </tbody>\n",
       "</table>\n",
       "</div>"
      ],
      "text/plain": [
       "                                                0                    1                    2                    3                    4\n",
       "store                                           1                    2                    3                    4                    5\n",
       "day_of_week                                     5                    5                    5                    5                    5\n",
       "date                          2015-07-31 00:00:00  2015-07-31 00:00:00  2015-07-31 00:00:00  2015-07-31 00:00:00  2015-07-31 00:00:00\n",
       "sales                                        5263                 6064                 8314                13995                 4822\n",
       "customers                                     555                  625                  821                 1498                  559\n",
       "open                                            1                    1                    1                    1                    1\n",
       "promo                                           1                    1                    1                    1                    1\n",
       "state_holiday                         regular_day          regular_day          regular_day          regular_day          regular_day\n",
       "school_holiday                                  1                    1                    1                    1                    1\n",
       "store_type                                      c                    a                    a                    c                    a\n",
       "assortment                                  basic                basic                basic             extended                basic\n",
       "competition_distance                       1270.0                570.0              14130.0                620.0              29910.0\n",
       "competition_open_since_month                    9                   11                   12                    9                    4\n",
       "competition_open_since_year                  2008                 2007                 2006                 2009                 2015\n",
       "promo2                                          0                    1                    1                    0                    0\n",
       "promo2_since_week                              31                   13                   14                   31                   31\n",
       "promo2_since_year                            2015                 2010                 2011                 2015                 2015\n",
       "promo_interval                                  0      Jan,Apr,Jul,Oct      Jan,Apr,Jul,Oct                    0                    0\n",
       "month_map                                     Jul                  Jul                  Jul                  Jul                  Jul\n",
       "is_promo                                        0                    1                    1                    0                    0\n",
       "year                                         2015                 2015                 2015                 2015                 2015\n",
       "month                                           7                    7                    7                    7                    7\n",
       "day                                            31                   31                   31                   31                   31\n",
       "week_of_year                                   31                   31                   31                   31                   31\n",
       "year_week                                 2015-30              2015-30              2015-30              2015-30              2015-30\n",
       "competition_since             2008-09-01 00:00:00  2007-11-01 00:00:00  2006-12-01 00:00:00  2009-09-01 00:00:00  2015-04-01 00:00:00\n",
       "competition_time_month                         84                   94                  105                   71                    4\n",
       "promo_since                   2015-07-27 00:00:00  2010-03-22 00:00:00  2011-03-28 00:00:00  2015-07-27 00:00:00  2015-07-27 00:00:00\n",
       "promo_time_week                                 0                  279                  226                    0                    0"
      ]
     },
     "execution_count": 24,
     "metadata": {},
     "output_type": "execute_result"
    }
   ],
   "source": [
    "df2.head().T"
   ]
  },
  {
   "cell_type": "markdown",
   "id": "ff9195e6-bd2e-49ad-94fb-99efecb2d619",
   "metadata": {},
   "source": [
    "# 3.0. FILTRAGEM DE VARIÁVEIS"
   ]
  },
  {
   "cell_type": "code",
   "execution_count": 25,
   "id": "d02c2136-ed22-4ff2-af4e-de5a4f2d0c2c",
   "metadata": {},
   "outputs": [],
   "source": [
    "df3 = df2.copy()"
   ]
  },
  {
   "cell_type": "markdown",
   "id": "a45aa654-e7b1-40bc-9cfb-d036c17525b5",
   "metadata": {},
   "source": [
    "## 3.1 - Filtragem das Linhas"
   ]
  },
  {
   "cell_type": "code",
   "execution_count": 26,
   "id": "a80bd040-6789-46a8-acbe-5cdf6cd60ce0",
   "metadata": {},
   "outputs": [],
   "source": [
    "df3 = df3[( df3['open'] != 0 ) & ( df3['sales'] > 0 )]"
   ]
  },
  {
   "cell_type": "markdown",
   "id": "9664663f-706a-4d6b-8a5c-2360eaafddfd",
   "metadata": {},
   "source": [
    "## 3.2 - Seleção das Colunas"
   ]
  },
  {
   "cell_type": "code",
   "execution_count": 27,
   "id": "8f4863d1-6d3b-493c-8aa8-d40478e75e24",
   "metadata": {},
   "outputs": [],
   "source": [
    "cols_drop = ['customers', 'open', 'promo_interval', 'month_map']\n",
    "df3 = df3.drop( cols_drop, axis=1 )"
   ]
  },
  {
   "cell_type": "code",
   "execution_count": 28,
   "id": "1d486f86-80d5-47e4-97fe-48a08c002ffb",
   "metadata": {},
   "outputs": [
    {
     "data": {
      "text/plain": [
       "Index(['store', 'day_of_week', 'date', 'sales', 'promo', 'state_holiday',\n",
       "       'school_holiday', 'store_type', 'assortment', 'competition_distance',\n",
       "       'competition_open_since_month', 'competition_open_since_year', 'promo2',\n",
       "       'promo2_since_week', 'promo2_since_year', 'is_promo', 'year', 'month',\n",
       "       'day', 'week_of_year', 'year_week', 'competition_since',\n",
       "       'competition_time_month', 'promo_since', 'promo_time_week'],\n",
       "      dtype='object')"
      ]
     },
     "execution_count": 28,
     "metadata": {},
     "output_type": "execute_result"
    }
   ],
   "source": [
    "df3.columns"
   ]
  },
  {
   "cell_type": "markdown",
   "id": "d5359598-b0e9-4ad5-99b3-5b53e7d39782",
   "metadata": {},
   "source": [
    "# 4.0. ANÁLISE EXPLORATÓRIA DE DADOS (EDA)"
   ]
  },
  {
   "cell_type": "code",
   "execution_count": 29,
   "id": "18132f3a-cfa7-45a3-8061-0f30119b3152",
   "metadata": {},
   "outputs": [],
   "source": [
    "df4 = df3.copy()"
   ]
  },
  {
   "cell_type": "markdown",
   "id": "b6661337-f624-4fd2-abe5-c2ecfe708952",
   "metadata": {},
   "source": [
    "## 4.1. Análise Univariada"
   ]
  },
  {
   "cell_type": "markdown",
   "id": "c7757a2b-89c1-45af-95a3-9ee528a56bcf",
   "metadata": {
    "editable": true,
    "slideshow": {
     "slide_type": ""
    },
    "tags": []
   },
   "source": [
    "### 4.1.1. Response Variable"
   ]
  },
  {
   "cell_type": "code",
   "execution_count": 30,
   "id": "ec5cfa9f-9d73-4d75-a1f1-1de4d111ad73",
   "metadata": {
    "editable": true,
    "slideshow": {
     "slide_type": ""
    },
    "tags": []
   },
   "outputs": [
    {
     "data": {
      "image/png": "[encoded data removed]",
      "text/plain": [
       "<Figure size 1000x500 with 1 Axes>"
      ]
     },
     "metadata": {},
     "output_type": "display_data"
    }
   ],
   "source": [
    "sns.displot( df4['sales'], kde=False, bins=50, aspect=2);"
   ]
  },
  {
   "cell_type": "markdown",
   "id": "309ee5bb-bb47-4f2d-89ab-89405aca87a1",
   "metadata": {},
   "source": [
    "### 4.1.2. Numerical Variable"
   ]
  },
  {
   "cell_type": "code",
   "execution_count": null,
   "id": "da4ad76e-de8a-41f2-9766-0d8dea4ba228",
   "metadata": {},
   "outputs": [],
   "source": [
    "num_attributes.hist( bins=25, figsize=(16,12) );"
   ]
  },
  {
   "cell_type": "markdown",
   "id": "7acebbd8-d028-4879-8597-ada7d3e9b3c3",
   "metadata": {},
   "source": [
    "### 4.1.3. Categorical Variable"
   ]
  },
  {
   "cell_type": "code",
   "execution_count": null,
   "id": "db413383-a5fe-48b8-98d4-2bf36e4b8f2c",
   "metadata": {},
   "outputs": [],
   "source": [
    "fig, axs = plt.subplots(3, 2, sharex=False)\n",
    "\n",
    "# state_holiday\n",
    "df_aux = df4[df4['state_holiday'] != 'regular_day']\n",
    "\n",
    "sns.countplot( data=df_aux, x='state_holiday', hue='state_holiday', palette='Set2', ax=axs[0, 0] )\n",
    "\n",
    "sns.kdeplot( data=df4[df4['state_holiday'] == 'public holiday'], x='sales', color='#66c2a5', fill=True, label='public holiday', ax=axs[0, 1] )\n",
    "sns.kdeplot( data=df4[df4['state_holiday'] == 'Easter holiday'], x='sales', color='#fc8d62', fill=True, label='Easter holiday', ax=axs[0, 1] )\n",
    "sns.kdeplot( data=df4[df4['state_holiday'] == 'Christmas'], x='sales', color='#8da0cb', fill=True, label='Christmas', ax=axs[0, 1] )\n",
    "axs[0, 1].legend()\n",
    "\n",
    "# store_type\n",
    "sns.countplot( data=df4, x='store_type', hue='store_type', palette='Set1', ax=axs[1, 0], order=df4['store_type'].value_counts().index )\n",
    "\n",
    "sns.kdeplot( data=df4[df4['store_type'] == 'a'], x='sales', color='#377eb8', fill=True, label='a', ax=axs[1, 1])\n",
    "sns.kdeplot( data=df4[df4['store_type'] == 'b'], x='sales', color='#984ea3', fill=True, label='b', ax=axs[1, 1] )\n",
    "sns.kdeplot( data=df4[df4['store_type'] == 'c'], x='sales', color='#e41a1c', fill=True, label='c', ax=axs[1, 1] )\n",
    "sns.kdeplot( data=df4[df4['store_type'] == 'd'], x='sales', color='#4daf4a', fill=True, label='d', ax=axs[1, 1] )\n",
    "axs[1, 1].legend()\n",
    "\n",
    "# assortment\n",
    "sns.countplot( data=df4, x='assortment', hue='assortment', palette='Set3', ax=axs[2, 0], order=df4['assortment'].value_counts().index )\n",
    "\n",
    "sns.kdeplot( data=df4[df4['assortment'] == 'basic'], x='sales', color='#8dd3c7', fill=True, label='basic', ax=axs[2, 1])\n",
    "sns.kdeplot( data=df4[df4['assortment'] == 'extended'], x='sales', color='#ffffb3', fill=True, label='extended', ax=axs[2, 1] )\n",
    "sns.kdeplot( data=df4[df4['assortment'] == 'extra'], x='sales', color='#bebada', fill=True, label='extra', ax=axs[2, 1] )\n",
    "axs[2, 1].legend()\n",
    "\n",
    "plt.tight_layout(h_pad=1.8)\n",
    "plt.show();"
   ]
  },
  {
   "cell_type": "markdown",
   "id": "e8723c00-7a78-4e0f-8cf5-a2f4aa689c9a",
   "metadata": {},
   "source": [
    "## 4.2. Análise Bivariada"
   ]
  },
  {
   "cell_type": "markdown",
   "id": "59020282-7ef0-41b9-8cde-2049aebbdb76",
   "metadata": {},
   "source": [
    "### H1. Lojas com maior sortimento deveriam vender mais\n",
    "\n",
    "**FALSA** Lojas com MAIOR SORTIMENTO vendem MENOS."
   ]
  },
  {
   "cell_type": "code",
   "execution_count": null,
   "id": "6a054340-8701-491e-afdc-92728b7a2e4d",
   "metadata": {
    "jupyter": {
     "source_hidden": true
    }
   },
   "outputs": [],
   "source": [
    "fig, axs = plt.subplots( 3, 1, sharex=False )\n",
    "\n",
    "aux_h1 = df4[['assortment', 'sales']].groupby( 'assortment' ).sum().reset_index()\n",
    "sns.barplot( data=aux_h1, x='assortment', y='sales', hue='assortment', palette='Set3', ax=axs[0] )\n",
    "\n",
    "aux2_h1 = df4[['year_week', 'assortment', 'sales']].groupby( ['year_week', 'assortment'] ).sum().reset_index()\n",
    "aux2_h1.pivot( index='year_week', columns='assortment', values='sales' ).plot()\n",
    "\n",
    "aux3_h1 = aux2_h1[aux2_h1['assortment'] == 'extra']\n",
    "aux3_h1.pivot( index='year_week', columns='assortment', values='sales' ).plot()"
   ]
  },
  {
   "cell_type": "markdown",
   "id": "376f00cb-ebe1-4f64-8389-7bb90cb1fc85",
   "metadata": {},
   "source": [
    "### H2. Lojas com competidores mais próximos deveriam vender menos.\n",
    "\n",
    "**FALSA** Lojas com COMPETIDORES MAIS PRÓXIMOS vendem MAIS."
   ]
  },
  {
   "cell_type": "code",
   "execution_count": null,
   "id": "92a834ed-c111-4d9e-bc43-a717ebf55d4a",
   "metadata": {
    "jupyter": {
     "source_hidden": true
    }
   },
   "outputs": [],
   "source": [
    "df_aux = df4[['competition_distance', 'sales']].groupby( 'competition_distance' ).sum().reset_index()\n",
    "\n",
    "bins = list( np.arange( 0, 20000, 250 ) )\n",
    "df_aux['competition_distance_binned'] = pd.cut( df_aux['competition_distance'], bins=bins )\n",
    "aux = df_aux[['competition_distance_binned', 'sales']].groupby( 'competition_distance_binned', observed=False ).sum().reset_index()\n",
    "\n",
    "fig, axs = plt.subplots(2, 1, sharex=False)\n",
    "\n",
    "axs[0].tick_params(axis='x', rotation=90)\n",
    "sns.barplot( x='competition_distance_binned', y='sales', data=aux, ax=axs[0]);\n",
    "\n",
    "sns.heatmap( df_aux[['competition_distance', 'sales']].corr( method='pearson' ), annot=True, ax=axs[1] );\n",
    "\n",
    "fig.subplots_adjust(hspace=0.6)"
   ]
  },
  {
   "cell_type": "markdown",
   "id": "d46166c1-4d3a-4e51-be61-a18a69011c43",
   "metadata": {},
   "source": [
    "### H3. Lojas com competidores à mais tempo deveriam vender mais.\n",
    "\n",
    "**FALSA** Lojas com COMPETIDORES A MAIS TEMPO vendem menos."
   ]
  },
  {
   "cell_type": "code",
   "execution_count": null,
   "id": "758a5e22-91c9-4ab2-9932-7c6e88643613",
   "metadata": {
    "jupyter": {
     "source_hidden": true
    }
   },
   "outputs": [],
   "source": [
    "fig, axs = plt.subplots( 3, 1, sharex=False )\n",
    "\n",
    "\n",
    "df_aux = df4[['competition_time_month', 'sales']].groupby( 'competition_time_month' ).sum().reset_index()\n",
    "df_aux2 = df_aux[ ( df_aux['competition_time_month'] < 100 ) & ( df_aux['competition_time_month'] != 0 ) ]\n",
    "sns.barplot( data=df_aux2, x='competition_time_month', y='sales', ax=axs[0]);\n",
    "axs[0].tick_params( 'x', rotation=90 )\n",
    "\n",
    "sns.regplot( x='competition_time_month', y='sales', data=df_aux2, ax=axs[1] );\n",
    "\n",
    "sns.heatmap( df_aux2.corr( method='pearson' ), annot=True, ax=axs[2]);\n",
    "\n",
    "fig.subplots_adjust(hspace=0.5)"
   ]
  },
  {
   "cell_type": "markdown",
   "id": "a787639a-5da3-45ee-818c-17f419eb68da",
   "metadata": {},
   "source": [
    "### H4. Lojas com promoções ativas por mais tempo deveriam vender mais.\n",
    "\n",
    "**FALSA** Lojas com promoções ativas por mais tempo vendem menos, depois de um certo período de promoção."
   ]
  },
  {
   "cell_type": "code",
   "execution_count": null,
   "id": "59f570ea-a38e-4de5-b5eb-b38702e83630",
   "metadata": {
    "jupyter": {
     "source_hidden": true
    }
   },
   "outputs": [],
   "source": [
    "df_aux = df4[['promo_time_week', 'sales']].groupby( 'promo_time_week' ).sum().reset_index()\n",
    "\n",
    "grid = plt.GridSpec( 3, 2, hspace=0.5 )\n",
    "\n",
    "aux_regular = df_aux[( df_aux['promo_time_week'] < 0 )]\n",
    "aux_extendida = df_aux[( df_aux['promo_time_week'] > 0 ) ]\n",
    "\n",
    "fig = plt.figure()\n",
    "\n",
    "\n",
    "ax1 = fig.add_subplot( grid[0, 0] )\n",
    "sns.barplot( data=aux_regular, x='promo_time_week', y='sales', ax=ax1 );\n",
    "ticks_loc = ax1.get_xticks()[::10]\n",
    "ticks_labels = [label.get_text() for label in ax1.get_xticklabels()][::10]\n",
    "ax1.set_xticks(ticks_loc)\n",
    "ax1.set_xticklabels(ticks_labels, rotation=90)\n",
    "\n",
    "ax2 = fig.add_subplot( grid[0, 1] )\n",
    "sns.regplot( data=aux_regular, x='promo_time_week', y='sales', ax=ax2 );\n",
    "ax2.tick_params('x', rotation=90)\n",
    "\n",
    "ax3 = fig.add_subplot( grid[1, 0] )\n",
    "sns.barplot( data=aux_extendida, x='promo_time_week', y='sales', ax=ax3 );\n",
    "ticks_loc = ax3.get_xticks()[::10]\n",
    "ticks_labels = [label.get_text() for label in ax3.get_xticklabels()][::10]\n",
    "ax3.set_xticks(ticks_loc)\n",
    "ax3.set_xticklabels(ticks_labels, rotation=90)\n",
    "\n",
    "ax4 = fig.add_subplot( grid[1, 1] )\n",
    "sns.regplot( data=aux_extendida, x='promo_time_week', y='sales', ax=ax4 );\n",
    "ax4.tick_params('x', rotation=90)\n",
    "\n",
    "ax4 = fig.add_subplot( grid[2, :] )\n",
    "sns.heatmap( df_aux.corr( method='pearson' ), annot=True );\n"
   ]
  },
  {
   "cell_type": "markdown",
   "id": "759bbd11-faa4-4be6-a0cf-623ac5ed40cb",
   "metadata": {},
   "source": [
    "### H5. Lojas com mais promoções consecutivas deveriam vender mais.\n",
    "\n",
    "**FALSA** Lojas com promoções ativas por mais tempo vendem menos, depois de um certo período de promoção."
   ]
  },
  {
   "cell_type": "code",
   "execution_count": null,
   "id": "451be970-6b4c-4b8a-8a87-58630a550e6b",
   "metadata": {
    "jupyter": {
     "source_hidden": true
    }
   },
   "outputs": [],
   "source": [
    "aux = df4[['promo', 'promo2', 'sales']].groupby( ['promo', 'promo2'] ).sum().sort_values('sales', ascending=False).reset_index()\n",
    "\n",
    "conditions = [\n",
    "    (aux['promo'] == 0) & (aux['promo2'] == 0),\n",
    "    (aux['promo'] == 0) & (aux['promo2'] == 1),\n",
    "    (aux['promo'] == 1) & (aux['promo2'] == 0),\n",
    "    (aux['promo'] == 1) & (aux['promo2'] == 1)\n",
    "]\n",
    "\n",
    "values = [\"Sem promoção\", \"Extendida\", \"Tradicional\", \"Tradicional e Extendida\"]\n",
    "\n",
    "aux['legenda'] = np.select(conditions, values)\n",
    "\n",
    "aux"
   ]
  },
  {
   "cell_type": "code",
   "execution_count": null,
   "id": "cb66b013-8cc9-40ef-94dd-f4cf2f622a02",
   "metadata": {},
   "outputs": [],
   "source": [
    "aux1 = df4[( df4['promo'] == 1 ) & ( df4['promo2'] == 1 )][['year_week', 'sales']].groupby( 'year_week' ).sum().reset_index()\n",
    "ax = aux1.plot( figsize=(16,6))\n",
    "\n",
    "aux2 = df4[( df4['promo'] == 1 ) & ( df4['promo2'] == 0 )][['year_week', 'sales']].groupby( 'year_week' ).sum().reset_index()\n",
    "aux2.plot( ax=ax )\n",
    "\n",
    "ax.legend( labels=['Tradicional & Extendida', 'Extendida'] );"
   ]
  },
  {
   "cell_type": "markdown",
   "id": "2f10a13a-7358-4256-bf17-d23bf2de16c3",
   "metadata": {},
   "source": [
    "### H6. Lojas abertas durante o feriado de Natal deveriam vender mais.\n",
    "\n",
    "**FALSA** Lojas abertas durante o feriado de Natal vendem menos"
   ]
  },
  {
   "cell_type": "code",
   "execution_count": null,
   "id": "3b75dc5b-3d1c-4a7e-a06c-d6891a89708d",
   "metadata": {
    "jupyter": {
     "source_hidden": true
    }
   },
   "outputs": [],
   "source": [
    "aux = df4[df4['state_holiday'] != 'regular_day']\n",
    "\n",
    "df_aux = aux[['state_holiday', 'sales']].groupby( 'state_holiday' ).sum().reset_index()\n",
    "\n",
    "fig, axs = plt.subplots( 2, 1, sharex=False )\n",
    "\n",
    "plt.figure( figsize=(16,5));\n",
    "sns.barplot( data=df_aux, x='state_holiday', y='sales', hue='state_holiday', ax=axs[0] );\n",
    "\n",
    "aux2 = aux[['year', 'state_holiday', 'sales']].groupby( ['year', 'state_holiday'] ).sum().reset_index()\n",
    "sns.barplot( data=aux2, x='year', y='sales', hue='state_holiday', ax=axs[1] );"
   ]
  },
  {
   "cell_type": "markdown",
   "id": "931012e8-db25-4ba9-9ca4-4c8fa9183bfd",
   "metadata": {},
   "source": [
    "### H7. Lojas deveriam vender mais ao longo dos anos.\n",
    "\n",
    "**FALSA** Lojas vendem menos ao longo do ano. Mesmo que 2015 não seja um ano fechado, percebe-se uma tendência de queda."
   ]
  },
  {
   "cell_type": "code",
   "execution_count": null,
   "id": "ebf3f444-301a-4746-a944-ff5493ad0a49",
   "metadata": {
    "jupyter": {
     "source_hidden": true
    }
   },
   "outputs": [],
   "source": [
    "aux = df4[['year', 'sales']].groupby( 'year' ).sum().reset_index().sort_values('sales', ascending=False)\n",
    "\n",
    "\n",
    "fig, axs = plt.subplots( 2, 1, sharex=False, figsize=(20,9) )\n",
    "\n",
    "sns.barplot( data=aux, x='year', y='sales', hue='year', ax=axs[0])\n",
    "\n",
    "aux2 = df4[['week_of_year', 'sales', 'year']].groupby( ['week_of_year', 'year'] ).sum().reset_index()\n",
    "\n",
    "sns.lineplot( data=aux2, x='week_of_year', y='sales', hue='year', ax=axs[1] );\n",
    "\n",
    "##! Adicionar o gráfico de regressão (regplot) e de correlação. Colocar os dois em uma única linha na imagem"
   ]
  },
  {
   "cell_type": "markdown",
   "id": "a856df0c-3703-4acb-836e-b05625a9bd7b",
   "metadata": {},
   "source": [
    "### H8. Lojas deveriam vender mais no segundo semestre do ano.\n",
    "\n",
    "**FALSA** Lojas vendem menos no segundo semestre do ano"
   ]
  },
  {
   "cell_type": "code",
   "execution_count": null,
   "id": "9f9dc6ad-fd73-4f6c-8e20-759c4d7d846c",
   "metadata": {},
   "outputs": [],
   "source": [
    "df_aux = df4[df4['year'] != '2015']\n",
    "\n",
    "df_aux['semester'] = df_aux.apply( lambda x: 1 if x['month'] <= 6 else 2, axis=1)\n",
    "df_aux['week_of_semester'] = df_aux['week_of_year'].apply(lambda x: x if x <= 26 else x - 26)\n",
    "\n",
    "fig, axs = plt.subplots( 2, 1, sharex=False)\n",
    "\n",
    "aux = df_aux[['semester', 'sales', 'week_of_semester']].groupby( ['semester', 'week_of_semester'] ).sum().reset_index()\n",
    "sns.barplot( data=aux, x='semester', y='sales', hue='semester', ax=axs[0], width=0.3, palette='Set1' );\n",
    "\n",
    "sns.lineplot( data=aux, x='week_of_semester', y='sales', hue='semester', ax=axs[1], palette='Set1' );"
   ]
  },
  {
   "cell_type": "markdown",
   "id": "cecaef26-1550-42ea-9b39-f721f7800c41",
   "metadata": {},
   "source": [
    "### H9. Lojas deveriam vender mais depois do dia 10 de cada mês.\n",
    "\n",
    "**VERDADEIRA** Lojas vendem mais depois do dia 10 de cada mês."
   ]
  },
  {
   "cell_type": "code",
   "execution_count": null,
   "id": "e787f6f3-f5fd-47fe-a181-e2314db0bb30",
   "metadata": {
    "jupyter": {
     "source_hidden": true
    }
   },
   "outputs": [],
   "source": [
    "aux1 = df4[['day', 'sales']].groupby( 'day' ).sum().reset_index()\n",
    "\n",
    "fig, axs = plt.subplots( 2, 2, sharex=False)\n",
    "\n",
    "sns.barplot( data=aux1, x='day', y='sales', ax=axs[0, 0] );\n",
    "\n",
    "sns.regplot( data=aux1, x='day', y='sales', ax=axs[0, 1] );\n",
    "\n",
    "sns.heatmap( aux1.corr( method='pearson' ), annot=True, ax=axs[1, 0] );\n",
    "\n",
    "aux1['before_after'] = aux1['day'].apply( lambda x: 'before_10_days' if x <= 10 else 'after_10_days' )\n",
    "aux2 = aux1[['before_after', 'sales']].groupby( 'before_after' ).sum().reset_index()\n",
    "\n",
    "sns.barplot( data=aux2, x='before_after', y='sales', ax=axs[1, 1] )\n"
   ]
  },
  {
   "cell_type": "markdown",
   "id": "44a1176e-577d-483b-a130-9267ae56f7e4",
   "metadata": {},
   "source": [
    "### H10. Lojas deveriam vender menos aos finais de semana.\n",
    "\n",
    "**VERDADEIRA** Lojas vendem menos nos finais de semana."
   ]
  },
  {
   "cell_type": "code",
   "execution_count": null,
   "id": "12f34263-ee22-4e28-b037-56c4aed1771d",
   "metadata": {},
   "outputs": [],
   "source": [
    "aux1 = df4[['day_of_week', 'sales']].groupby( 'day_of_week' ).sum().reset_index()\n",
    "\n",
    "fig, axs = plt.subplots( 1, 3)\n",
    "\n",
    "sns.barplot( data=aux1, x='day_of_week', y='sales', hue='day_of_week', palette='Set2', ax=axs[0] )\n",
    "\n",
    "sns.regplot( data=aux1, x='day_of_week', y='sales', ax=axs[1] )\n",
    "\n",
    "sns.heatmap( aux1.corr( method='pearson' ), annot=True, ax=axs[2] );"
   ]
  },
  {
   "cell_type": "markdown",
   "id": "82c80c6c-8016-4b30-9c08-082277813196",
   "metadata": {},
   "source": [
    "### H11. Lojas deveriam vender menos durante feriados escolares.\n",
    "\n",
    "**VERDADEIRA** Loja vendem menos durante os feriados escolares, exceto durante os meses de Julho e Agosto."
   ]
  },
  {
   "cell_type": "code",
   "execution_count": null,
   "id": "a8b1c549-592d-4786-94e7-8f21a2f62bee",
   "metadata": {
    "jupyter": {
     "source_hidden": true
    }
   },
   "outputs": [],
   "source": [
    "aux1 = df4[['school_holiday', 'sales']].groupby( 'school_holiday' ).sum().reset_index()\n",
    "\n",
    "fig, axs = plt.subplots( 2, 1 )\n",
    "\n",
    "sns.barplot( data=aux1, x='school_holiday', y='sales', hue='school_holiday', ax=axs[0] );\n",
    "\n",
    "aux2 = df4[[ 'month', 'school_holiday', 'sales']].groupby( ['month', 'school_holiday'] ).sum().reset_index()\n",
    "\n",
    "sns.barplot( data=aux2, x='month', y='sales', hue='school_holiday', ax=axs[1] );"
   ]
  },
  {
   "cell_type": "markdown",
   "id": "5792f7ae-7204-4b57-b939-4198f24d8acd",
   "metadata": {},
   "source": [
    "### 4.2.1. Resumo das Hipóteses"
   ]
  },
  {
   "cell_type": "code",
   "execution_count": null,
   "id": "a73487ac-92c2-48c4-97be-143674f536de",
   "metadata": {},
   "outputs": [],
   "source": [
    "tab = [\n",
    "    ['Hipóteses', 'Conclusão', 'Relevância'],\n",
    "    ['H1', 'Falsa', 'Baixa'],\n",
    "    ['H2', 'Falsa', 'Média'],\n",
    "    ['H3', 'Falsa', 'Média'],\n",
    "    ['H4', 'Falsa', 'Baixa'],\n",
    "    ['H5', 'Falsa', 'Baixa'],\n",
    "    ['H6', 'Falsa', 'Média'],\n",
    "    ['H7', 'Falsa', 'Alta'],\n",
    "    ['H8', 'Falsa', 'Alta'],\n",
    "    ['H9', 'Verdadeira', 'Alta'],\n",
    "    ['H10', 'Verdadeira', 'Alta'],\n",
    "    ['H11', 'Verdadeira', 'Baixa']]"
   ]
  },
  {
   "cell_type": "code",
   "execution_count": null,
   "id": "6610d135-a84d-461c-b307-e55384cc0c22",
   "metadata": {},
   "outputs": [],
   "source": [
    "print( tabulate( tab, headers='firstrow' ) )"
   ]
  },
  {
   "cell_type": "markdown",
   "id": "65ffffd8-f20d-47bf-89ab-790f8c4de2fb",
   "metadata": {},
   "source": [
    "## 4.3. Análise Multivariada"
   ]
  },
  {
   "cell_type": "markdown",
   "id": "14e56884-82d6-4402-a593-7ddf95809db2",
   "metadata": {},
   "source": [
    "### 4.3.1. Numerical Attributes"
   ]
  },
  {
   "cell_type": "code",
   "execution_count": null,
   "id": "f4ecae0a-69f8-4f5a-8cac-fdcf909df8c7",
   "metadata": {
    "jupyter": {
     "source_hidden": true
    }
   },
   "outputs": [],
   "source": [
    "correlation = num_attributes.corr( method='pearson' )\n",
    "\n",
    "sns.heatmap( correlation, annot=True );"
   ]
  },
  {
   "cell_type": "markdown",
   "id": "315a87eb-447f-4ddf-ac0c-8e67de920d08",
   "metadata": {},
   "source": [
    "### 4.3.2. Categorical Attributes"
   ]
  },
  {
   "cell_type": "code",
   "execution_count": null,
   "id": "7a325c50-8511-4d6c-ab26-e12ad80d2a6e",
   "metadata": {},
   "outputs": [],
   "source": [
    "a = df4.select_dtypes( include='object' )"
   ]
  },
  {
   "cell_type": "code",
   "execution_count": null,
   "id": "d6425219-e604-4449-a92d-b708a58881a6",
   "metadata": {
    "jupyter": {
     "source_hidden": true
    }
   },
   "outputs": [],
   "source": [
    "a1 = cramer_v( a['state_holiday'], a['state_holiday'] )\n",
    "a2 = cramer_v( a['state_holiday'], a['store_type'] )\n",
    "a3 = cramer_v( a['state_holiday'], a['assortment'] )\n",
    "\n",
    "a4 = cramer_v( a['store_type'], a['state_holiday'] )\n",
    "a5 = cramer_v( a['store_type'], a['store_type'] )\n",
    "a6 = cramer_v( a['store_type'], a['assortment'] )\n",
    "\n",
    "a7 = cramer_v( a['assortment'], a['state_holiday'] )\n",
    "a8 = cramer_v( a['assortment'], a['store_type'] )\n",
    "a9 = cramer_v( a['assortment'], a['assortment'] )\n",
    "\n",
    "d = pd.DataFrame( {\n",
    "    'state_holiday': [a1, a2, a3],\n",
    "    'store_type': [a4, a5, a6],\n",
    "    'assortment': [a7, a8, a9]})\n",
    "\n",
    "d = d.set_index( d.columns )\n",
    "\n",
    "sns.heatmap( d, annot=True );"
   ]
  },
  {
   "cell_type": "markdown",
   "id": "3455f5f1-8406-48a2-a42c-46eebe0a576b",
   "metadata": {},
   "source": [
    "# 5.0. PREPARAÇÃO DOS DADOS"
   ]
  },
  {
   "cell_type": "code",
   "execution_count": null,
   "id": "810303aa-fe05-4d1a-8ae5-206f777239b2",
   "metadata": {},
   "outputs": [],
   "source": [
    "df5 = df4.copy()"
   ]
  },
  {
   "cell_type": "markdown",
   "id": "b356f52a-fc14-4c1c-b336-845ec1fd0616",
   "metadata": {},
   "source": [
    "## 5.1. Normalização"
   ]
  },
  {
   "cell_type": "markdown",
   "id": "87aab806-a351-4919-89a5-09863b1a8160",
   "metadata": {},
   "source": [
    "## 5.2. Rescaling"
   ]
  },
  {
   "cell_type": "code",
   "execution_count": null,
   "id": "9d7e5eaf-7a0a-4ea0-8a00-8f528db9e5a2",
   "metadata": {},
   "outputs": [],
   "source": [
    "rs = pp.RobustScaler()\n",
    "mms = pp.MinMaxScaler()\n",
    "\n",
    "df5['competition_distance'] = rs.fit_transform( df5[['competition_distance']].values )\n",
    "\n",
    "df5['competition_time_month'] = rs.fit_transform( df5[['competition_time_month']].values )\n",
    "\n",
    "df5['promo_time_week'] = rs.fit_transform( df5[['promo_time_week']].values )\n",
    "\n",
    "df5['year'] = rs.fit_transform( df5[['year']].values )"
   ]
  },
  {
   "cell_type": "markdown",
   "id": "0a09861f-a5cd-4cfa-893e-8b5a1b7f7286",
   "metadata": {},
   "source": [
    "## 5.3. Transformação"
   ]
  },
  {
   "cell_type": "markdown",
   "id": "01e91d73-a66c-45db-8083-8f32a2fc9c9e",
   "metadata": {},
   "source": [
    "### 5.3.1. Encoding"
   ]
  },
  {
   "cell_type": "code",
   "execution_count": null,
   "id": "bc050f2f-d73e-4838-a5a5-7b86704c99f0",
   "metadata": {},
   "outputs": [],
   "source": [
    "# state_holiday - One Hot Encoding\n",
    "df5 = pd.get_dummies( df5, prefix=['state_holiday'], columns=['state_holiday'], dtype=int )\n",
    "\n",
    "# store_type - Label Encoding\n",
    "le = pp.LabelEncoder()\n",
    "df5['store_type'] = le.fit_transform( df5['store_type'] )\n",
    "\n",
    "# assortment - Ordinal Encoding\n",
    "assortment_dict = {'basic': 1, 'extra': 2, 'extended': 3}\n",
    "df5['assortment'] = df5['assortment'].map( assortment_dict )"
   ]
  },
  {
   "cell_type": "markdown",
   "id": "9977810e-f0e9-499f-9ceb-82ce29993efe",
   "metadata": {},
   "source": [
    "### 5.3.2. Reponse Variable Transformation"
   ]
  },
  {
   "cell_type": "code",
   "execution_count": null,
   "id": "ac3cb51a-6df1-4740-9dd5-a5cbe8acbecb",
   "metadata": {},
   "outputs": [],
   "source": [
    "df5['sales'] = np.log1p( df4['sales'] )"
   ]
  },
  {
   "cell_type": "markdown",
   "id": "d4bec0af-5d98-471b-9b54-a497b0480400",
   "metadata": {},
   "source": [
    "### 5.3.3. Nature Transformation"
   ]
  },
  {
   "cell_type": "code",
   "execution_count": null,
   "id": "f025fe8b-1976-4370-a5cc-eb1c3bf26965",
   "metadata": {},
   "outputs": [],
   "source": [
    "df5.dtypes"
   ]
  },
  {
   "cell_type": "code",
   "execution_count": null,
   "id": "b89afeef-3f51-4111-a2e3-ac0295e18bea",
   "metadata": {},
   "outputs": [],
   "source": [
    "# day_of_week\n",
    "df4['day_of_week_sin'] = df5['day_of_week'].apply( lambda x: np.sin( x * ( 2. * np.pi/7 ) ) )\n",
    "df4['day_of_week_cos'] = df5['day_of_week'].apply( lambda x: np.cos( x * ( 2. * np.pi/7 ) ) )\n",
    "\n",
    "# month\n",
    "df4['month_sin'] = df5['month'].apply( lambda x: np.sin( x * ( 2. * np.pi/12 ) ) )\n",
    "df4['month_cos'] = df5['month'].apply( lambda x: np.cos( x * ( 2. * np.pi/12 ) ) )\n",
    "\n",
    "# day\n",
    "df4['day_sin'] = df5['day'].apply( lambda x: np.sin( x * ( 2. * np.pi/30 ) ) )\n",
    "df4['day_cos'] = df5['day'].apply( lambda x: np.cos( x * ( 2. * np.pi/30 ) ) )\n",
    "\n",
    "# week_of_year\n",
    "df4['week_of_year_sin'] = df5['week_of_year'].apply( lambda x: np.sin( x * ( 2. * np.pi/52 ) ) )\n",
    "df4['week_of_year_cos'] = df5['week_of_year'].apply( lambda x: np.cos( x * ( 2. * np.pi/52 ) ) )"
   ]
  },
  {
   "cell_type": "code",
   "execution_count": null,
   "id": "7ead8da0-9361-4af3-b0d9-cf397b6e7ea4",
   "metadata": {},
   "outputs": [],
   "source": [
    "df5.head(20)"
   ]
  }
 ],
 "metadata": {
  "kernelspec": {
   "display_name": "Python 3 (ipykernel)",
   "language": "python",
   "name": "python3"
  },
  "language_info": {
   "codemirror_mode": {
    "name": "ipython",
    "version": 3
   },
   "file_extension": ".py",
   "mimetype": "text/x-python",
   "name": "python",
   "nbconvert_exporter": "python",
   "pygments_lexer": "ipython3",
   "version": "3.10.13"
  }
 },
 "nbformat": 4,
 "nbformat_minor": 5
}
